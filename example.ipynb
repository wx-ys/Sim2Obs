{
 "cells": [
  {
   "cell_type": "code",
   "execution_count": null,
   "metadata": {},
   "outputs": [],
   "source": [
    "\n",
    "from sim2obs import simtobs\n",
    "import numpy as np\n",
    "import matplotlib.pyplot as plt"
   ]
  },
  {
   "cell_type": "code",
   "execution_count": 2,
   "metadata": {},
   "outputs": [
    {
     "name": "stdout",
     "output_type": "stream",
     "text": [
      "Obtaining parameters from file 'SIM2OBS.ini'\n",
      "\n",
      "System Info: \n",
      "---Available CPU (total: 64): 0.00%\n",
      "---Available storage (4.10%): 71.82 GB/1.79 TB\n",
      "---Available memory (81.10%): 50.73 GB/62.54 GB\n",
      "\n",
      "Using simulation operator: Read_AnastrisTNG \n",
      "\n"
     ]
    }
   ],
   "source": [
    "simio = simtobs.Sim2Obs('SIM2OBS.ini')"
   ]
  },
  {
   "cell_type": "code",
   "execution_count": 3,
   "metadata": {},
   "outputs": [
    {
     "name": "stdout",
     "output_type": "stream",
     "text": [
      "Loading Subhalo_253864 from <Snapshot \"TNG50-1_snapshot99\" len=0> \n",
      "\n",
      "Subhalo_253864 properties:\n",
      "--- log(Mstar): 10.40 Msol\n",
      "--- log(Mgas): 10.57 Msol\n",
      "--- krot: 0.77\n",
      "--- re: 12.59 kpc \n",
      "\n",
      "\n",
      "The Structure of the .ski file:\n",
      "MonteCarloSimulation\n",
      "-random\n",
      "-units: ExtragalacticUnits\n",
      "-cosmology: FlatUniverseCosmology\n",
      "-sourceSystem: ['ParticleSource', 'ParticleSource']\n",
      "---ParticleSource\n",
      "-----smoothingKernel: CubicSplineSmoothingKernel\n",
      "-----sedFamily: BruzualCharlotSEDFamily\n",
      "-----wavelengthBiasDistribution: LogWavelengthDistribution\n",
      "---ParticleSource\n",
      "-----smoothingKernel: CubicSplineSmoothingKernel\n",
      "-----sedFamily: MappingsSEDFamily\n",
      "-----wavelengthBiasDistribution: LogWavelengthDistribution\n",
      "-mediumSystem: ['ParticleMedium', 'ParticleMedium']\n",
      "---ParticleMedium\n",
      "-----smoothingKernel: CubicSplineSmoothingKernel\n",
      "-----materialMix: ZubkoDustMix\n",
      "---ParticleMedium\n",
      "-----smoothingKernel: CubicSplineSmoothingKernel\n",
      "-----materialMix: ZubkoDustMix\n",
      "-instrumentSystem: ['FullInstrument']\n",
      "-probeSystem\n"
     ]
    }
   ],
   "source": [
    "simio.pre_init()"
   ]
  },
  {
   "cell_type": "code",
   "execution_count": 4,
   "metadata": {},
   "outputs": [
    {
     "name": "stdout",
     "output_type": "stream",
     "text": [
      "Output path: /home/lushuai/TEST/Subhalo_253864\n",
      "Files containing the data extracted from simulation:\n",
      "- Saving Source1.txt, columns: ['x', 'y', 'z', 'h', 'mbirth', 'metals', 'age']\n",
      "------ size: 28.57 MB, time: 13.3 s\n",
      "- Saving Source2.txt, columns: ['x', 'y', 'z', 'h', 'sfr', 'metals', 'logC', 'P', 'Fc']\n",
      "------ size: 15.72 KB, time: 0.0 s\n",
      "- Saving Medium1.txt, columns: ['x', 'y', 'z', 'h', 'mass', 'metals']\n",
      "------ size: 2.75 MB, time: 0.3 s\n",
      "- Saving Medium2.txt, columns: ['x', 'y', 'z', 'h', 'mass', 'metals', 'temp']\n",
      "No GFM_Metals, use hydrogen mass fraction XH=0.76\n",
      "------ size: 14.89 MB, time: 1.5 s\n",
      "-- Total size: 46.24 MB, total time: 15.2 s \n",
      "\n",
      "Creating /home/lushuai/TEST/Subhalo_253864/sim2obs.ski file:\n",
      "Setting random\n",
      "Setting units\n",
      "Setting cosmology\n",
      "Setting sourceSystem\n",
      "Setting mediumSystem\n",
      "Setting instrumentSystem\n",
      "Setting probeSystem\n",
      "ski file init: <xml.dom.minidom.Document object at 0x7f3cf153b4c0> is successfully saved in /home/lushuai/TEST/Subhalo_253864/sim2obs.ski\n",
      "\n",
      "Set MonteCarloSimulation\n",
      "---userLevel = Regular\n",
      "---simulationMode = DustEmission\n",
      "---iteratePrimaryEmission = false\n",
      "---iterateSecondaryEmission = false\n",
      "---numPackets = 1e7\n",
      "\n",
      "Set Random:\n",
      "---seed = 1234\n",
      "\n",
      "Set Units:\n",
      "---wavelengthOutputStyle = Wavelength\n",
      "---fluxOutputStyle = Frequency\n",
      "\n",
      "Set Cosmology:\n",
      "---redshift = 0.01\n",
      "---reducedHubbleConstant = 0.6774\n",
      "---matterDensityFraction = 0.3075\n",
      "\n",
      "Set SourceSystem:\n",
      "---minWavelength = 0.08 micron\n",
      "---maxWavelength = 1000 micron\n",
      "---wavelengths = 0.55 micron\n",
      "---sourceBias = 0.5\n",
      "\n",
      "Set Source1:\n",
      "---filename = Source1.txt\n",
      "---importVelocity = false\n",
      "---importVelocityDispersion = false\n",
      "---importCurrentMass = false\n",
      "---sourceWeight = 1\n",
      "---wavelengthBias = 0.5\n",
      "---sedFamily: imf = Chabrier\n",
      "---sedFamily: resolution = High\n",
      "\n",
      "Set Source2:\n",
      "---filename = Source1.txt\n",
      "---importVelocity = false\n",
      "---importVelocityDispersion = false\n",
      "---importCurrentMass = false\n",
      "---sourceWeight = 1\n",
      "---wavelengthBias = 0.5\n",
      "\n",
      "Set MediumSystem:\n",
      "---explicitAbsorption = false\n",
      "---forceScattering = true\n",
      "---minWeightReduction = 1e4\n",
      "---minScattEvents = 0\n",
      "---pathLengthBias = 0.5\n",
      "---storeRadiationField = false\n",
      "---radiationFieldWLG: minWavelength = 0.08 micron\n",
      "---radiationFieldWLG: maxWavelength = 10 micron\n",
      "---radiationFieldWLG: numWavelengths = 40\n",
      "---numDensitySamples = 100\n",
      "---numPropertySamples = 1\n",
      "---aggregateVelocity = Average\n",
      "---grid: minX = -30 kpc\n",
      "---grid: maxX = 30 kpc\n",
      "---grid: minY = -30 kpc\n",
      "---grid: maxY = 30 kpc\n",
      "---grid: minZ = -30 kpc\n",
      "---grid: maxZ = 30 kpc\n",
      "---grid: treeType = OctTree\n",
      "---policy: minLevel = 6\n",
      "---policy: maxLevel = 11\n",
      "---policy: maxDustFraction = 1e-6\n",
      "---policy: maxDustOpticalDepth = 0\n",
      "---policy: wavelength = 0.55 micron\n",
      "---policy: maxDustDensityDispersion = 0\n",
      "---policy: maxElectronFraction = 1e-6\n",
      "---policy: maxGasFraction = 1e-6\n",
      "\n",
      "Set Medium1:\n",
      "---filename = Medium1.txt\n",
      "---massFraction = 0.3\n",
      "---massType = Mass\n",
      "---importMetallicity = true\n",
      "---importTemperature = false\n",
      "---maxTemperature = 0 K\n",
      "---importVelocity = false\n",
      "---importMagneticField = false\n",
      "---importVariableMixParams = false\n",
      "---materialMix: numSilicateSizes = 10\n",
      "---materialMix: numGraphiteSizes = 10\n",
      "---materialMix: numPAHSizes = 10\n",
      "\n",
      "Set Medium2:\n",
      "---filename = Medium2.txt\n",
      "---massFraction = 0.3\n",
      "---massType = Mass\n",
      "---importMetallicity = true\n",
      "---importTemperature = true\n",
      "---maxTemperature = 1e4 K\n",
      "---importVelocity = false\n",
      "---importMagneticField = false\n",
      "---importVariableMixParams = false\n",
      "---materialMix: numSilicateSizes = 10\n",
      "---materialMix: numGraphiteSizes = 10\n",
      "---materialMix: numPAHSizes = 10\n",
      "\n",
      "Set InstrumentSystem:\n",
      "---defaultWavelengthGrid: minWavelength = 0.01 micron\n",
      "---defaultWavelengthGrid: maxWavelength = 2000 micron\n",
      "---defaultWavelengthGrid: numWavelengths = 450\n",
      "---instruments1: instrumentName = face_view\n",
      "---instruments1: distance = 0 Mpc\n",
      "---instruments1: inclination = 0 deg\n",
      "---instruments1: azimuth = 0 deg\n",
      "---instruments1: roll = 0 deg\n",
      "---instruments1: fieldOfViewX = 60 kpc\n",
      "---instruments1: numPixelsX = 400\n",
      "---instruments1: centerX = 0 kpc\n",
      "---instruments1: fieldOfViewY = 60 kpc\n",
      "---instruments1: numPixelsY = 400\n",
      "---instruments1: centerY = 0 kpc\n",
      "---instruments1: recordComponents = false\n",
      "---instruments1: numScatteringLevels = 0\n",
      "---instruments1: recordPolarization = false\n",
      "---instruments1: recordStatistics = false\n",
      "---instruments1: wavelengthGrid: minWavelength = 0.01 micron\n",
      "---instruments1: wavelengthGrid: maxWavelength = 2000 micron\n",
      "---instruments1: wavelengthGrid: numWavelengths = 450\n",
      "<xml.etree.ElementTree.ElementTree object at 0x7f3e60098430> is successfully saved in /home/lushuai/TEST/Subhalo_253864/sim2obs.ski\n",
      "Saving config file: /home/lushuai/TEST/Subhalo_253864/sim2obs.ini\n"
     ]
    }
   ],
   "source": [
    "simio.pre_skirt()"
   ]
  },
  {
   "cell_type": "code",
   "execution_count": null,
   "metadata": {},
   "outputs": [
    {
     "name": "stdout",
     "output_type": "stream",
     "text": [
      "No GFM_Metals, use hydrogen mass fraction XH=0.76\n"
     ]
    },
    {
     "data": {
      "text/plain": [
       "SimArray([  48543.50404053,   42585.27561418,   54444.50925062, ...,\n",
       "          1297046.06515541,  884643.18031127,  587658.8981501 ], 'K')"
      ]
     },
     "execution_count": 5,
     "metadata": {},
     "output_type": "execute_result"
    }
   ],
   "source": [
    "simio.file_operator.get_gas(ID=8,key='temp')"
   ]
  },
  {
   "cell_type": "code",
   "execution_count": null,
   "metadata": {},
   "outputs": [],
   "source": []
  }
 ],
 "metadata": {
  "kernelspec": {
   "display_name": "Python 3",
   "language": "python",
   "name": "python3"
  },
  "language_info": {
   "codemirror_mode": {
    "name": "ipython",
    "version": 3
   },
   "file_extension": ".py",
   "mimetype": "text/x-python",
   "name": "python",
   "nbconvert_exporter": "python",
   "pygments_lexer": "ipython3",
   "version": "3.8.10"
  }
 },
 "nbformat": 4,
 "nbformat_minor": 2
}
